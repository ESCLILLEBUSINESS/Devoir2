{
  "cells": [
    {
      "cell_type": "markdown",
      "metadata": {
        "id": "v6HXbJ4r2Tp8"
      },
      "source": [
        "Import necessary libraries"
      ]
    },
    {
      "cell_type": "code",
      "execution_count": 33,
      "metadata": {
        "id": "TdzPuAed2DHk"
      },
      "outputs": [],
      "source": [
        "import pandas as pd\n",
        "from sklearn.model_selection import train_test_split\n",
        "from sklearn.metrics import accuracy_score, roc_auc_score\n",
        "from sklearn.tree import DecisionTreeClassifier\n",
        "\n",
        "pd.set_option('display.max_rows', None)\n",
        "pd.set_option('display.max_columns', None)"
      ]
    },
    {
      "cell_type": "markdown",
      "metadata": {
        "id": "rg77oTVs2ZIp"
      },
      "source": [
        "Load data"
      ]
    },
    {
      "cell_type": "code",
      "execution_count": 11,
      "metadata": {
        "id": "mK4IEaPK2Xs-"
      },
      "outputs": [],
      "source": [
        "calls = pd.read_excel(\"./Data/CallsData.xls\")\n",
        "contract = pd.read_csv(\"./Data/ContractData.csv\")"
      ]
    },
    {
      "cell_type": "markdown",
      "metadata": {
        "id": "tJJyQ7js26bA"
      },
      "source": [
        "Join data in one dataset"
      ]
    },
    {
      "cell_type": "code",
      "execution_count": 12,
      "metadata": {
        "colab": {
          "base_uri": "https://localhost:8080/"
        },
        "id": "Vv0MJwdU3EHL",
        "outputId": "dad81a09-6c22-4659-8617-a16eab0a5ebd"
      },
      "outputs": [
        {
          "name": "stdout",
          "output_type": "stream",
          "text": [
            "<class 'pandas.core.frame.DataFrame'>\n",
            "Int64Index: 3333 entries, 0 to 3332\n",
            "Data columns (total 21 columns):\n",
            " #   Column          Non-Null Count  Dtype  \n",
            "---  ------          --------------  -----  \n",
            " 0   VMail Message   3333 non-null   int64  \n",
            " 1   Day Mins        3333 non-null   float64\n",
            " 2   Eve Mins        3333 non-null   float64\n",
            " 3   Night Mins      3333 non-null   float64\n",
            " 4   Intl Mins       3333 non-null   float64\n",
            " 5   CustServ Calls  3333 non-null   int64  \n",
            " 6   Day Calls       3333 non-null   int64  \n",
            " 7   Day Charge      3333 non-null   float64\n",
            " 8   Eve Calls       3333 non-null   int64  \n",
            " 9   Eve Charge      3333 non-null   float64\n",
            " 10  Night Calls     3333 non-null   int64  \n",
            " 11  Night Charge    3333 non-null   float64\n",
            " 12  Intl Calls      3333 non-null   int64  \n",
            " 13  Intl Charge     3333 non-null   float64\n",
            " 14  Area Code       3333 non-null   int64  \n",
            " 15  Phone           3333 non-null   object \n",
            " 16  Account Length  3333 non-null   int64  \n",
            " 17  Churn           3333 non-null   int64  \n",
            " 18  Int'l Plan      3333 non-null   int64  \n",
            " 19  VMail Plan      3333 non-null   int64  \n",
            " 20  State           3333 non-null   object \n",
            "dtypes: float64(8), int64(11), object(2)\n",
            "memory usage: 572.9+ KB\n"
          ]
        }
      ],
      "source": [
        "df = pd.merge(calls, contract, on=[\"Area Code\", \"Phone\"])\n",
        "df.info()"
      ]
    },
    {
      "cell_type": "markdown",
      "metadata": {},
      "source": [
        "Display the 5 first and 5 last columns"
      ]
    },
    {
      "cell_type": "code",
      "execution_count": 14,
      "metadata": {},
      "outputs": [
        {
          "data": {
            "text/html": [
              "<div>\n",
              "<style scoped>\n",
              "    .dataframe tbody tr th:only-of-type {\n",
              "        vertical-align: middle;\n",
              "    }\n",
              "\n",
              "    .dataframe tbody tr th {\n",
              "        vertical-align: top;\n",
              "    }\n",
              "\n",
              "    .dataframe thead th {\n",
              "        text-align: right;\n",
              "    }\n",
              "</style>\n",
              "<table border=\"1\" class=\"dataframe\">\n",
              "  <thead>\n",
              "    <tr style=\"text-align: right;\">\n",
              "      <th></th>\n",
              "      <th>VMail Message</th>\n",
              "      <th>Day Mins</th>\n",
              "      <th>Eve Mins</th>\n",
              "      <th>Night Mins</th>\n",
              "      <th>Intl Mins</th>\n",
              "      <th>CustServ Calls</th>\n",
              "      <th>Day Calls</th>\n",
              "      <th>Day Charge</th>\n",
              "      <th>Eve Calls</th>\n",
              "      <th>Eve Charge</th>\n",
              "      <th>Night Calls</th>\n",
              "      <th>Night Charge</th>\n",
              "      <th>Intl Calls</th>\n",
              "      <th>Intl Charge</th>\n",
              "      <th>Area Code</th>\n",
              "      <th>Phone</th>\n",
              "      <th>Account Length</th>\n",
              "      <th>Churn</th>\n",
              "      <th>Int'l Plan</th>\n",
              "      <th>VMail Plan</th>\n",
              "      <th>State</th>\n",
              "    </tr>\n",
              "  </thead>\n",
              "  <tbody>\n",
              "    <tr>\n",
              "      <th>0</th>\n",
              "      <td>25</td>\n",
              "      <td>265.1</td>\n",
              "      <td>197.4</td>\n",
              "      <td>244.7</td>\n",
              "      <td>10.0</td>\n",
              "      <td>1</td>\n",
              "      <td>110</td>\n",
              "      <td>45.07</td>\n",
              "      <td>99</td>\n",
              "      <td>16.78</td>\n",
              "      <td>91</td>\n",
              "      <td>11.01</td>\n",
              "      <td>3</td>\n",
              "      <td>2.70</td>\n",
              "      <td>415</td>\n",
              "      <td>382-4657</td>\n",
              "      <td>128</td>\n",
              "      <td>0</td>\n",
              "      <td>0</td>\n",
              "      <td>1</td>\n",
              "      <td>KS</td>\n",
              "    </tr>\n",
              "    <tr>\n",
              "      <th>1</th>\n",
              "      <td>26</td>\n",
              "      <td>161.6</td>\n",
              "      <td>195.5</td>\n",
              "      <td>254.4</td>\n",
              "      <td>13.7</td>\n",
              "      <td>1</td>\n",
              "      <td>123</td>\n",
              "      <td>27.47</td>\n",
              "      <td>103</td>\n",
              "      <td>16.62</td>\n",
              "      <td>103</td>\n",
              "      <td>11.45</td>\n",
              "      <td>3</td>\n",
              "      <td>3.70</td>\n",
              "      <td>415</td>\n",
              "      <td>371-7191</td>\n",
              "      <td>107</td>\n",
              "      <td>0</td>\n",
              "      <td>0</td>\n",
              "      <td>1</td>\n",
              "      <td>OH</td>\n",
              "    </tr>\n",
              "    <tr>\n",
              "      <th>2</th>\n",
              "      <td>0</td>\n",
              "      <td>243.4</td>\n",
              "      <td>121.2</td>\n",
              "      <td>162.6</td>\n",
              "      <td>12.2</td>\n",
              "      <td>0</td>\n",
              "      <td>114</td>\n",
              "      <td>41.38</td>\n",
              "      <td>110</td>\n",
              "      <td>10.30</td>\n",
              "      <td>104</td>\n",
              "      <td>7.32</td>\n",
              "      <td>5</td>\n",
              "      <td>3.29</td>\n",
              "      <td>415</td>\n",
              "      <td>358-1921</td>\n",
              "      <td>137</td>\n",
              "      <td>0</td>\n",
              "      <td>0</td>\n",
              "      <td>0</td>\n",
              "      <td>NJ</td>\n",
              "    </tr>\n",
              "    <tr>\n",
              "      <th>3</th>\n",
              "      <td>0</td>\n",
              "      <td>299.4</td>\n",
              "      <td>61.9</td>\n",
              "      <td>196.9</td>\n",
              "      <td>6.6</td>\n",
              "      <td>2</td>\n",
              "      <td>71</td>\n",
              "      <td>50.90</td>\n",
              "      <td>88</td>\n",
              "      <td>5.26</td>\n",
              "      <td>89</td>\n",
              "      <td>8.86</td>\n",
              "      <td>7</td>\n",
              "      <td>1.78</td>\n",
              "      <td>408</td>\n",
              "      <td>375-9999</td>\n",
              "      <td>84</td>\n",
              "      <td>0</td>\n",
              "      <td>1</td>\n",
              "      <td>0</td>\n",
              "      <td>OH</td>\n",
              "    </tr>\n",
              "    <tr>\n",
              "      <th>4</th>\n",
              "      <td>0</td>\n",
              "      <td>166.7</td>\n",
              "      <td>148.3</td>\n",
              "      <td>186.9</td>\n",
              "      <td>10.1</td>\n",
              "      <td>3</td>\n",
              "      <td>113</td>\n",
              "      <td>28.34</td>\n",
              "      <td>122</td>\n",
              "      <td>12.61</td>\n",
              "      <td>121</td>\n",
              "      <td>8.41</td>\n",
              "      <td>3</td>\n",
              "      <td>2.73</td>\n",
              "      <td>415</td>\n",
              "      <td>330-6626</td>\n",
              "      <td>75</td>\n",
              "      <td>0</td>\n",
              "      <td>1</td>\n",
              "      <td>0</td>\n",
              "      <td>OK</td>\n",
              "    </tr>\n",
              "  </tbody>\n",
              "</table>\n",
              "</div>"
            ],
            "text/plain": [
              "   VMail Message  Day Mins  Eve Mins  Night Mins  Intl Mins  CustServ Calls  \\\n",
              "0             25     265.1     197.4       244.7       10.0               1   \n",
              "1             26     161.6     195.5       254.4       13.7               1   \n",
              "2              0     243.4     121.2       162.6       12.2               0   \n",
              "3              0     299.4      61.9       196.9        6.6               2   \n",
              "4              0     166.7     148.3       186.9       10.1               3   \n",
              "\n",
              "   Day Calls  Day Charge  Eve Calls  Eve Charge  Night Calls  Night Charge  \\\n",
              "0        110       45.07         99       16.78           91         11.01   \n",
              "1        123       27.47        103       16.62          103         11.45   \n",
              "2        114       41.38        110       10.30          104          7.32   \n",
              "3         71       50.90         88        5.26           89          8.86   \n",
              "4        113       28.34        122       12.61          121          8.41   \n",
              "\n",
              "   Intl Calls  Intl Charge  Area Code     Phone  Account Length  Churn  \\\n",
              "0           3         2.70        415  382-4657             128      0   \n",
              "1           3         3.70        415  371-7191             107      0   \n",
              "2           5         3.29        415  358-1921             137      0   \n",
              "3           7         1.78        408  375-9999              84      0   \n",
              "4           3         2.73        415  330-6626              75      0   \n",
              "\n",
              "   Int'l Plan  VMail Plan State  \n",
              "0           0           1    KS  \n",
              "1           0           1    OH  \n",
              "2           0           0    NJ  \n",
              "3           1           0    OH  \n",
              "4           1           0    OK  "
            ]
          },
          "metadata": {},
          "output_type": "display_data"
        },
        {
          "data": {
            "text/html": [
              "<div>\n",
              "<style scoped>\n",
              "    .dataframe tbody tr th:only-of-type {\n",
              "        vertical-align: middle;\n",
              "    }\n",
              "\n",
              "    .dataframe tbody tr th {\n",
              "        vertical-align: top;\n",
              "    }\n",
              "\n",
              "    .dataframe thead th {\n",
              "        text-align: right;\n",
              "    }\n",
              "</style>\n",
              "<table border=\"1\" class=\"dataframe\">\n",
              "  <thead>\n",
              "    <tr style=\"text-align: right;\">\n",
              "      <th></th>\n",
              "      <th>VMail Message</th>\n",
              "      <th>Day Mins</th>\n",
              "      <th>Eve Mins</th>\n",
              "      <th>Night Mins</th>\n",
              "      <th>Intl Mins</th>\n",
              "      <th>CustServ Calls</th>\n",
              "      <th>Day Calls</th>\n",
              "      <th>Day Charge</th>\n",
              "      <th>Eve Calls</th>\n",
              "      <th>Eve Charge</th>\n",
              "      <th>Night Calls</th>\n",
              "      <th>Night Charge</th>\n",
              "      <th>Intl Calls</th>\n",
              "      <th>Intl Charge</th>\n",
              "      <th>Area Code</th>\n",
              "      <th>Phone</th>\n",
              "      <th>Account Length</th>\n",
              "      <th>Churn</th>\n",
              "      <th>Int'l Plan</th>\n",
              "      <th>VMail Plan</th>\n",
              "      <th>State</th>\n",
              "    </tr>\n",
              "  </thead>\n",
              "  <tbody>\n",
              "    <tr>\n",
              "      <th>3328</th>\n",
              "      <td>36</td>\n",
              "      <td>156.2</td>\n",
              "      <td>215.5</td>\n",
              "      <td>279.1</td>\n",
              "      <td>9.9</td>\n",
              "      <td>2</td>\n",
              "      <td>77</td>\n",
              "      <td>26.55</td>\n",
              "      <td>126</td>\n",
              "      <td>18.32</td>\n",
              "      <td>83</td>\n",
              "      <td>12.56</td>\n",
              "      <td>6</td>\n",
              "      <td>2.67</td>\n",
              "      <td>415</td>\n",
              "      <td>414-4276</td>\n",
              "      <td>192</td>\n",
              "      <td>0</td>\n",
              "      <td>0</td>\n",
              "      <td>1</td>\n",
              "      <td>AZ</td>\n",
              "    </tr>\n",
              "    <tr>\n",
              "      <th>3329</th>\n",
              "      <td>0</td>\n",
              "      <td>231.1</td>\n",
              "      <td>153.4</td>\n",
              "      <td>191.3</td>\n",
              "      <td>9.6</td>\n",
              "      <td>3</td>\n",
              "      <td>57</td>\n",
              "      <td>39.29</td>\n",
              "      <td>55</td>\n",
              "      <td>13.04</td>\n",
              "      <td>123</td>\n",
              "      <td>8.61</td>\n",
              "      <td>4</td>\n",
              "      <td>2.59</td>\n",
              "      <td>415</td>\n",
              "      <td>370-3271</td>\n",
              "      <td>68</td>\n",
              "      <td>0</td>\n",
              "      <td>0</td>\n",
              "      <td>0</td>\n",
              "      <td>WV</td>\n",
              "    </tr>\n",
              "    <tr>\n",
              "      <th>3330</th>\n",
              "      <td>0</td>\n",
              "      <td>180.8</td>\n",
              "      <td>288.8</td>\n",
              "      <td>191.9</td>\n",
              "      <td>14.1</td>\n",
              "      <td>2</td>\n",
              "      <td>109</td>\n",
              "      <td>30.74</td>\n",
              "      <td>58</td>\n",
              "      <td>24.55</td>\n",
              "      <td>91</td>\n",
              "      <td>8.64</td>\n",
              "      <td>6</td>\n",
              "      <td>3.81</td>\n",
              "      <td>510</td>\n",
              "      <td>328-8230</td>\n",
              "      <td>28</td>\n",
              "      <td>0</td>\n",
              "      <td>0</td>\n",
              "      <td>0</td>\n",
              "      <td>RI</td>\n",
              "    </tr>\n",
              "    <tr>\n",
              "      <th>3331</th>\n",
              "      <td>0</td>\n",
              "      <td>213.8</td>\n",
              "      <td>159.6</td>\n",
              "      <td>139.2</td>\n",
              "      <td>5.0</td>\n",
              "      <td>2</td>\n",
              "      <td>105</td>\n",
              "      <td>36.35</td>\n",
              "      <td>84</td>\n",
              "      <td>13.57</td>\n",
              "      <td>137</td>\n",
              "      <td>6.26</td>\n",
              "      <td>10</td>\n",
              "      <td>1.35</td>\n",
              "      <td>510</td>\n",
              "      <td>364-6381</td>\n",
              "      <td>184</td>\n",
              "      <td>0</td>\n",
              "      <td>1</td>\n",
              "      <td>0</td>\n",
              "      <td>CT</td>\n",
              "    </tr>\n",
              "    <tr>\n",
              "      <th>3332</th>\n",
              "      <td>25</td>\n",
              "      <td>234.4</td>\n",
              "      <td>265.9</td>\n",
              "      <td>241.4</td>\n",
              "      <td>13.7</td>\n",
              "      <td>0</td>\n",
              "      <td>113</td>\n",
              "      <td>39.85</td>\n",
              "      <td>82</td>\n",
              "      <td>22.60</td>\n",
              "      <td>77</td>\n",
              "      <td>10.86</td>\n",
              "      <td>4</td>\n",
              "      <td>3.70</td>\n",
              "      <td>415</td>\n",
              "      <td>400-4344</td>\n",
              "      <td>74</td>\n",
              "      <td>0</td>\n",
              "      <td>0</td>\n",
              "      <td>1</td>\n",
              "      <td>TN</td>\n",
              "    </tr>\n",
              "  </tbody>\n",
              "</table>\n",
              "</div>"
            ],
            "text/plain": [
              "      VMail Message  Day Mins  Eve Mins  Night Mins  Intl Mins  \\\n",
              "3328             36     156.2     215.5       279.1        9.9   \n",
              "3329              0     231.1     153.4       191.3        9.6   \n",
              "3330              0     180.8     288.8       191.9       14.1   \n",
              "3331              0     213.8     159.6       139.2        5.0   \n",
              "3332             25     234.4     265.9       241.4       13.7   \n",
              "\n",
              "      CustServ Calls  Day Calls  Day Charge  Eve Calls  Eve Charge  \\\n",
              "3328               2         77       26.55        126       18.32   \n",
              "3329               3         57       39.29         55       13.04   \n",
              "3330               2        109       30.74         58       24.55   \n",
              "3331               2        105       36.35         84       13.57   \n",
              "3332               0        113       39.85         82       22.60   \n",
              "\n",
              "      Night Calls  Night Charge  Intl Calls  Intl Charge  Area Code     Phone  \\\n",
              "3328           83         12.56           6         2.67        415  414-4276   \n",
              "3329          123          8.61           4         2.59        415  370-3271   \n",
              "3330           91          8.64           6         3.81        510  328-8230   \n",
              "3331          137          6.26          10         1.35        510  364-6381   \n",
              "3332           77         10.86           4         3.70        415  400-4344   \n",
              "\n",
              "      Account Length  Churn  Int'l Plan  VMail Plan State  \n",
              "3328             192      0           0           1    AZ  \n",
              "3329              68      0           0           0    WV  \n",
              "3330              28      0           0           0    RI  \n",
              "3331             184      0           1           0    CT  \n",
              "3332              74      0           0           1    TN  "
            ]
          },
          "metadata": {},
          "output_type": "display_data"
        }
      ],
      "source": [
        "display(df.head())\n",
        "display(df.tail())"
      ]
    },
    {
      "cell_type": "markdown",
      "metadata": {
        "id": "SU_P-0hw7UHb"
      },
      "source": [
        "Convert Area Code to categorical"
      ]
    },
    {
      "cell_type": "code",
      "execution_count": 15,
      "metadata": {
        "colab": {
          "base_uri": "https://localhost:8080/"
        },
        "id": "DNUGvnhE7aF0",
        "outputId": "06a20685-ce1a-42d0-abe3-ebb36c111a2e"
      },
      "outputs": [
        {
          "name": "stdout",
          "output_type": "stream",
          "text": [
            "<class 'pandas.core.frame.DataFrame'>\n",
            "Int64Index: 3333 entries, 0 to 3332\n",
            "Data columns (total 21 columns):\n",
            " #   Column          Non-Null Count  Dtype  \n",
            "---  ------          --------------  -----  \n",
            " 0   VMail Message   3333 non-null   int64  \n",
            " 1   Day Mins        3333 non-null   float64\n",
            " 2   Eve Mins        3333 non-null   float64\n",
            " 3   Night Mins      3333 non-null   float64\n",
            " 4   Intl Mins       3333 non-null   float64\n",
            " 5   CustServ Calls  3333 non-null   int64  \n",
            " 6   Day Calls       3333 non-null   int64  \n",
            " 7   Day Charge      3333 non-null   float64\n",
            " 8   Eve Calls       3333 non-null   int64  \n",
            " 9   Eve Charge      3333 non-null   float64\n",
            " 10  Night Calls     3333 non-null   int64  \n",
            " 11  Night Charge    3333 non-null   float64\n",
            " 12  Intl Calls      3333 non-null   int64  \n",
            " 13  Intl Charge     3333 non-null   float64\n",
            " 14  Area Code       3333 non-null   object \n",
            " 15  Phone           3333 non-null   object \n",
            " 16  Account Length  3333 non-null   int64  \n",
            " 17  Churn           3333 non-null   int64  \n",
            " 18  Int'l Plan      3333 non-null   int64  \n",
            " 19  VMail Plan      3333 non-null   int64  \n",
            " 20  State           3333 non-null   object \n",
            "dtypes: float64(8), int64(10), object(3)\n",
            "memory usage: 572.9+ KB\n"
          ]
        }
      ],
      "source": [
        "df['Area Code'] = df['Area Code'].astype(object)\n",
        "df.info()"
      ]
    },
    {
      "cell_type": "markdown",
      "metadata": {
        "id": "Xbto94_PCquX"
      },
      "source": [
        "Drop Phone variable"
      ]
    },
    {
      "cell_type": "code",
      "execution_count": 17,
      "metadata": {
        "id": "l_STHiR4BpCZ"
      },
      "outputs": [],
      "source": [
        "df.drop([\"Phone\"], axis = 1, inplace=True)"
      ]
    },
    {
      "cell_type": "markdown",
      "metadata": {
        "id": "If9PGkn6797f"
      },
      "source": [
        "Defining outcome"
      ]
    },
    {
      "cell_type": "code",
      "execution_count": 18,
      "metadata": {
        "id": "jd-ecymr8AOt"
      },
      "outputs": [],
      "source": [
        "Outcome = [\"Churn\"]\n",
        "X = df.drop(Outcome, axis = 1)\n",
        "y = df[Outcome]"
      ]
    },
    {
      "cell_type": "markdown",
      "metadata": {
        "id": "ZLlXbljHDAN2"
      },
      "source": [
        "OHE"
      ]
    },
    {
      "cell_type": "code",
      "execution_count": 19,
      "metadata": {
        "id": "OhIW2mHrDB8t"
      },
      "outputs": [
        {
          "name": "stderr",
          "output_type": "stream",
          "text": [
            "c:\\Users\\Franck\\anaconda3\\lib\\site-packages\\pandas\\core\\algorithms.py:798: FutureWarning: In a future version, the Index constructor will not infer numeric dtypes when passed object-dtype sequences (matching Series behavior)\n",
            "  uniques = Index(uniques)\n"
          ]
        }
      ],
      "source": [
        "OHE_X = pd.get_dummies(X, drop_first=True)"
      ]
    },
    {
      "cell_type": "markdown",
      "metadata": {
        "id": "QKh2ARM47uGR"
      },
      "source": [
        "Splitting dataset into training/test set 80%vs20%"
      ]
    },
    {
      "cell_type": "code",
      "execution_count": 20,
      "metadata": {
        "id": "Ib_Qxv2p7yyx"
      },
      "outputs": [],
      "source": [
        "X_train, X_test, y_train, y_test = train_test_split(OHE_X, y, test_size=.2, stratify=y, random_state=0)"
      ]
    },
    {
      "cell_type": "markdown",
      "metadata": {
        "id": "eMvnj2gq9GM6"
      },
      "source": [
        "Using DecisionTreeClassifier"
      ]
    },
    {
      "cell_type": "code",
      "execution_count": 21,
      "metadata": {
        "colab": {
          "base_uri": "https://localhost:8080/",
          "height": 74
        },
        "id": "8lb1NJBO8iDf",
        "outputId": "49f64863-fe85-4c1f-90f4-4a78a0b0df94"
      },
      "outputs": [
        {
          "data": {
            "text/html": [
              "<style>#sk-container-id-1 {color: black;background-color: white;}#sk-container-id-1 pre{padding: 0;}#sk-container-id-1 div.sk-toggleable {background-color: white;}#sk-container-id-1 label.sk-toggleable__label {cursor: pointer;display: block;width: 100%;margin-bottom: 0;padding: 0.3em;box-sizing: border-box;text-align: center;}#sk-container-id-1 label.sk-toggleable__label-arrow:before {content: \"▸\";float: left;margin-right: 0.25em;color: #696969;}#sk-container-id-1 label.sk-toggleable__label-arrow:hover:before {color: black;}#sk-container-id-1 div.sk-estimator:hover label.sk-toggleable__label-arrow:before {color: black;}#sk-container-id-1 div.sk-toggleable__content {max-height: 0;max-width: 0;overflow: hidden;text-align: left;background-color: #f0f8ff;}#sk-container-id-1 div.sk-toggleable__content pre {margin: 0.2em;color: black;border-radius: 0.25em;background-color: #f0f8ff;}#sk-container-id-1 input.sk-toggleable__control:checked~div.sk-toggleable__content {max-height: 200px;max-width: 100%;overflow: auto;}#sk-container-id-1 input.sk-toggleable__control:checked~label.sk-toggleable__label-arrow:before {content: \"▾\";}#sk-container-id-1 div.sk-estimator input.sk-toggleable__control:checked~label.sk-toggleable__label {background-color: #d4ebff;}#sk-container-id-1 div.sk-label input.sk-toggleable__control:checked~label.sk-toggleable__label {background-color: #d4ebff;}#sk-container-id-1 input.sk-hidden--visually {border: 0;clip: rect(1px 1px 1px 1px);clip: rect(1px, 1px, 1px, 1px);height: 1px;margin: -1px;overflow: hidden;padding: 0;position: absolute;width: 1px;}#sk-container-id-1 div.sk-estimator {font-family: monospace;background-color: #f0f8ff;border: 1px dotted black;border-radius: 0.25em;box-sizing: border-box;margin-bottom: 0.5em;}#sk-container-id-1 div.sk-estimator:hover {background-color: #d4ebff;}#sk-container-id-1 div.sk-parallel-item::after {content: \"\";width: 100%;border-bottom: 1px solid gray;flex-grow: 1;}#sk-container-id-1 div.sk-label:hover label.sk-toggleable__label {background-color: #d4ebff;}#sk-container-id-1 div.sk-serial::before {content: \"\";position: absolute;border-left: 1px solid gray;box-sizing: border-box;top: 0;bottom: 0;left: 50%;z-index: 0;}#sk-container-id-1 div.sk-serial {display: flex;flex-direction: column;align-items: center;background-color: white;padding-right: 0.2em;padding-left: 0.2em;position: relative;}#sk-container-id-1 div.sk-item {position: relative;z-index: 1;}#sk-container-id-1 div.sk-parallel {display: flex;align-items: stretch;justify-content: center;background-color: white;position: relative;}#sk-container-id-1 div.sk-item::before, #sk-container-id-1 div.sk-parallel-item::before {content: \"\";position: absolute;border-left: 1px solid gray;box-sizing: border-box;top: 0;bottom: 0;left: 50%;z-index: -1;}#sk-container-id-1 div.sk-parallel-item {display: flex;flex-direction: column;z-index: 1;position: relative;background-color: white;}#sk-container-id-1 div.sk-parallel-item:first-child::after {align-self: flex-end;width: 50%;}#sk-container-id-1 div.sk-parallel-item:last-child::after {align-self: flex-start;width: 50%;}#sk-container-id-1 div.sk-parallel-item:only-child::after {width: 0;}#sk-container-id-1 div.sk-dashed-wrapped {border: 1px dashed gray;margin: 0 0.4em 0.5em 0.4em;box-sizing: border-box;padding-bottom: 0.4em;background-color: white;}#sk-container-id-1 div.sk-label label {font-family: monospace;font-weight: bold;display: inline-block;line-height: 1.2em;}#sk-container-id-1 div.sk-label-container {text-align: center;}#sk-container-id-1 div.sk-container {/* jupyter's `normalize.less` sets `[hidden] { display: none; }` but bootstrap.min.css set `[hidden] { display: none !important; }` so we also need the `!important` here to be able to override the default hidden behavior on the sphinx rendered scikit-learn.org. See: https://github.com/scikit-learn/scikit-learn/issues/21755 */display: inline-block !important;position: relative;}#sk-container-id-1 div.sk-text-repr-fallback {display: none;}</style><div id=\"sk-container-id-1\" class=\"sk-top-container\"><div class=\"sk-text-repr-fallback\"><pre>DecisionTreeClassifier(random_state=0)</pre><b>In a Jupyter environment, please rerun this cell to show the HTML representation or trust the notebook. <br />On GitHub, the HTML representation is unable to render, please try loading this page with nbviewer.org.</b></div><div class=\"sk-container\" hidden><div class=\"sk-item\"><div class=\"sk-estimator sk-toggleable\"><input class=\"sk-toggleable__control sk-hidden--visually\" id=\"sk-estimator-id-1\" type=\"checkbox\" checked><label for=\"sk-estimator-id-1\" class=\"sk-toggleable__label sk-toggleable__label-arrow\">DecisionTreeClassifier</label><div class=\"sk-toggleable__content\"><pre>DecisionTreeClassifier(random_state=0)</pre></div></div></div></div></div>"
            ],
            "text/plain": [
              "DecisionTreeClassifier(random_state=0)"
            ]
          },
          "execution_count": 21,
          "metadata": {},
          "output_type": "execute_result"
        }
      ],
      "source": [
        "clf = DecisionTreeClassifier(random_state=0)\n",
        "clf.fit(X_train, y_train)"
      ]
    },
    {
      "cell_type": "markdown",
      "metadata": {
        "id": "UPFhk_lBHzve"
      },
      "source": [
        "Predicting from test set"
      ]
    },
    {
      "cell_type": "code",
      "execution_count": 27,
      "metadata": {
        "colab": {
          "base_uri": "https://localhost:8080/"
        },
        "id": "cPXenEa8H2VI",
        "outputId": "4349f1c5-e056-45c6-a4da-088b37c4b346"
      },
      "outputs": [],
      "source": [
        "y_pred = clf.predict(X_test)\n",
        "y_proba = clf.predict_proba(X_test)"
      ]
    },
    {
      "cell_type": "markdown",
      "metadata": {},
      "source": [
        "Display class predicted"
      ]
    },
    {
      "cell_type": "code",
      "execution_count": 29,
      "metadata": {},
      "outputs": [
        {
          "data": {
            "text/plain": [
              "array([0, 1, 0, 0, 0, 0, 0, 0, 0, 0, 0, 0, 0, 0, 0, 1, 0, 0, 1, 0, 0, 0,\n",
              "       0, 0, 1, 0, 1, 0, 0, 1, 0, 0, 0, 1, 0, 0, 0, 0, 0, 0, 0, 0, 0, 0,\n",
              "       0, 1, 0, 0, 0, 0, 0, 0, 0, 1, 0, 0, 0, 0, 0, 0, 0, 1, 0, 0, 0, 0,\n",
              "       0, 0, 0, 0, 1, 0, 1, 0, 0, 0, 1, 0, 0, 0, 0, 0, 0, 1, 0, 0, 0, 0,\n",
              "       1, 0, 0, 1, 1, 0, 0, 0, 0, 0, 0, 0, 0, 0, 0, 0, 0, 0, 0, 0, 0, 0,\n",
              "       0, 0, 1, 0, 0, 0, 0, 1, 0, 1, 0, 0, 0, 0, 0, 1, 0, 1, 0, 0, 0, 0,\n",
              "       0, 0, 0, 0, 0, 0, 0, 0, 1, 0, 0, 1, 0, 1, 0, 0, 0, 0, 0, 1, 0, 0,\n",
              "       0, 0, 0, 1, 0, 0, 1, 0, 0, 0, 0, 0, 0, 0, 0, 0, 0, 0, 0, 0, 0, 1,\n",
              "       0, 0, 0, 0, 0, 0, 0, 0, 0, 0, 0, 0, 1, 0, 1, 0, 0, 0, 0, 0, 0, 0,\n",
              "       0, 0, 0, 0, 0, 0, 0, 0, 0, 0, 0, 0, 0, 0, 0, 0, 0, 0, 0, 0, 0, 0,\n",
              "       0, 0, 1, 0, 0, 0, 0, 0, 0, 0, 0, 0, 0, 1, 1, 0, 0, 0, 0, 0, 0, 0,\n",
              "       0, 1, 0, 1, 0, 0, 1, 0, 0, 0, 0, 0, 0, 0, 0, 0, 0, 0, 0, 0, 1, 0,\n",
              "       1, 0, 0, 0, 1, 0, 0, 0, 1, 0, 0, 1, 0, 0, 1, 0, 0, 1, 0, 0, 0, 0,\n",
              "       1, 0, 0, 0, 0, 0, 0, 1, 0, 0, 0, 1, 0, 1, 0, 0, 0, 0, 0, 0, 0, 1,\n",
              "       1, 0, 1, 0, 1, 0, 0, 0, 0, 1, 0, 1, 0, 0, 0, 1, 0, 0, 0, 0, 0, 0,\n",
              "       0, 0, 0, 0, 0, 0, 0, 0, 1, 0, 0, 0, 1, 1, 0, 0, 0, 0, 1, 1, 0, 0,\n",
              "       0, 0, 0, 0, 0, 1, 0, 0, 0, 0, 0, 1, 0, 0, 0, 0, 0, 0, 0, 0, 0, 0,\n",
              "       0, 1, 0, 0, 0, 0, 0, 0, 0, 1, 0, 0, 0, 0, 0, 0, 0, 0, 0, 0, 0, 0,\n",
              "       0, 0, 0, 0, 1, 0, 1, 0, 0, 0, 0, 1, 0, 0, 0, 0, 1, 0, 0, 0, 0, 0,\n",
              "       0, 1, 0, 0, 1, 0, 1, 1, 0, 0, 0, 0, 1, 0, 0, 0, 0, 0, 0, 0, 0, 0,\n",
              "       0, 0, 0, 0, 0, 0, 0, 1, 0, 0, 0, 0, 0, 0, 1, 0, 0, 0, 0, 0, 0, 0,\n",
              "       0, 0, 0, 1, 0, 0, 1, 0, 0, 0, 0, 1, 0, 0, 0, 0, 0, 0, 0, 0, 0, 1,\n",
              "       0, 0, 0, 0, 0, 0, 0, 0, 0, 0, 0, 0, 0, 0, 0, 0, 0, 0, 0, 0, 0, 1,\n",
              "       0, 0, 0, 0, 0, 0, 0, 0, 0, 0, 1, 0, 0, 0, 0, 0, 0, 0, 0, 0, 0, 0,\n",
              "       0, 0, 0, 0, 0, 0, 0, 0, 1, 0, 0, 0, 0, 0, 0, 1, 0, 0, 0, 0, 0, 0,\n",
              "       0, 1, 0, 0, 1, 0, 1, 0, 0, 1, 0, 0, 0, 0, 0, 0, 0, 1, 0, 0, 0, 1,\n",
              "       1, 0, 0, 1, 0, 0, 0, 0, 1, 0, 0, 0, 0, 0, 0, 1, 0, 0, 0, 0, 0, 0,\n",
              "       0, 0, 0, 0, 0, 0, 0, 0, 1, 0, 1, 0, 0, 0, 0, 0, 0, 0, 0, 0, 0, 0,\n",
              "       0, 0, 0, 0, 0, 0, 0, 0, 0, 0, 0, 0, 0, 0, 0, 0, 0, 0, 0, 0, 0, 0,\n",
              "       0, 0, 0, 0, 0, 0, 0, 0, 0, 0, 0, 0, 1, 0, 0, 1, 0, 0, 0, 1, 0, 0,\n",
              "       0, 0, 1, 0, 0, 0, 0], dtype=int64)"
            ]
          },
          "metadata": {},
          "output_type": "display_data"
        }
      ],
      "source": [
        "display(y_pred)"
      ]
    },
    {
      "cell_type": "markdown",
      "metadata": {},
      "source": [
        "Display probabilities predicted"
      ]
    },
    {
      "cell_type": "code",
      "execution_count": 30,
      "metadata": {},
      "outputs": [
        {
          "data": {
            "text/plain": [
              "array([[1., 0.],\n",
              "       [0., 1.],\n",
              "       [1., 0.],\n",
              "       ...,\n",
              "       [1., 0.],\n",
              "       [1., 0.],\n",
              "       [1., 0.]])"
            ]
          },
          "metadata": {},
          "output_type": "display_data"
        }
      ],
      "source": [
        "display(y_proba)"
      ]
    },
    {
      "cell_type": "markdown",
      "metadata": {},
      "source": [
        "Evaluating performance with accuracy metric"
      ]
    },
    {
      "cell_type": "code",
      "execution_count": 24,
      "metadata": {},
      "outputs": [
        {
          "data": {
            "text/plain": [
              "0.9370314842578711"
            ]
          },
          "execution_count": 24,
          "metadata": {},
          "output_type": "execute_result"
        }
      ],
      "source": [
        "accuracy_score(y_test, y_pred)"
      ]
    },
    {
      "cell_type": "markdown",
      "metadata": {},
      "source": [
        "Evaluating performance with roc auc metric"
      ]
    },
    {
      "cell_type": "code",
      "execution_count": 34,
      "metadata": {},
      "outputs": [
        {
          "data": {
            "text/plain": [
              "0.8776089708808102"
            ]
          },
          "execution_count": 34,
          "metadata": {},
          "output_type": "execute_result"
        }
      ],
      "source": [
        "roc_auc_score(y_test, y_proba[:,1])"
      ]
    },
    {
      "cell_type": "markdown",
      "metadata": {},
      "source": [
        "### Bonus\n",
        "\n",
        "Using Chat GPT, generate a code to print the confusion matrix AND to plot the ROC AUC curve for this model"
      ]
    },
    {
      "cell_type": "markdown",
      "metadata": {},
      "source": []
    }
  ],
  "metadata": {
    "colab": {
      "provenance": []
    },
    "kernelspec": {
      "display_name": "Python 3",
      "name": "python3"
    },
    "language_info": {
      "codemirror_mode": {
        "name": "ipython",
        "version": 3
      },
      "file_extension": ".py",
      "mimetype": "text/x-python",
      "name": "python",
      "nbconvert_exporter": "python",
      "pygments_lexer": "ipython3",
      "version": "3.8.5"
    }
  },
  "nbformat": 4,
  "nbformat_minor": 0
}
